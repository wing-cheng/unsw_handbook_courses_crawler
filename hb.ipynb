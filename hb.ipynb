{
 "cells": [
  {
   "cell_type": "code",
   "execution_count": 1,
   "metadata": {},
   "outputs": [],
   "source": [
    "import re"
   ]
  },
  {
   "cell_type": "code",
   "execution_count": 2,
   "metadata": {},
   "outputs": [],
   "source": [
    "import requests"
   ]
  },
  {
   "cell_type": "code",
   "execution_count": 3,
   "metadata": {},
   "outputs": [],
   "source": [
    "base_url = 'https://www.handbook.unsw.edu.au'"
   ]
  },
  {
   "cell_type": "code",
   "execution_count": 4,
   "metadata": {},
   "outputs": [],
   "source": [
    "resp = requests.get(base_url, timeout=10)\n",
    "try:\n",
    "    resp.encoding = resp.apparent_encoding\n",
    "    resp.raise_for_status()\n",
    "except:\n",
    "    print(\"cannot get response\")\n",
    "    pass"
   ]
  },
  {
   "cell_type": "code",
   "execution_count": 5,
   "metadata": {},
   "outputs": [
    {
     "data": {
      "text/plain": [
       "'<!DOCTYPE html>\\n<html lang=\"en\">\\n\\n<head>\\n\\t\\t\\t<meta name=\"viewport\" content=\"width=device-width, initi'"
      ]
     },
     "execution_count": 5,
     "metadata": {},
     "output_type": "execute_result"
    }
   ],
   "source": [
    "resp.text[:100]"
   ]
  },
  {
   "cell_type": "code",
   "execution_count": 6,
   "metadata": {},
   "outputs": [
    {
     "data": {
      "text/plain": [
       "200"
      ]
     },
     "execution_count": 6,
     "metadata": {},
     "output_type": "execute_result"
    }
   ],
   "source": [
    "resp.status_code"
   ]
  },
  {
   "cell_type": "code",
   "execution_count": 7,
   "metadata": {},
   "outputs": [],
   "source": [
    "from bs4 import BeautifulSoup"
   ]
  },
  {
   "cell_type": "code",
   "execution_count": 8,
   "metadata": {},
   "outputs": [],
   "source": [
    "demo = resp.text\n",
    "soup = BeautifulSoup(demo, 'html.parser')"
   ]
  },
  {
   "cell_type": "code",
   "execution_count": 9,
   "metadata": {},
   "outputs": [],
   "source": [
    "divs = soup.find_all('a', {'class': ['a-lettuce level-two', ''], 'tabindex': '-1'})"
   ]
  },
  {
   "cell_type": "code",
   "execution_count": 10,
   "metadata": {},
   "outputs": [
    {
     "data": {
      "text/plain": [
       "[<a class=\"a-lettuce level-two\" href=\"/ArchitectureAndBuilding/browse?interest_value=68b44253db96df002e4c126b3a961980\n",
       " \" tabindex=\"-1\" target=\"_self\">\n",
       " <h4>Architecture and Building</h4>\n",
       " </a>,\n",
       " <a class=\"a-lettuce level-two\" href=\"/BusinessAndManagement/browse?interest_value=dd350293db96df002e4c126b3a961909\n",
       " \" tabindex=\"-1\" target=\"_self\">\n",
       " <h4>Business and Management</h4>\n",
       " </a>,\n",
       " <a class=\"a-lettuce level-two\" href=\"/CreativeArts/browse?interest_value=c175c653db96df002e4c126b3a9619f3\n",
       " \" tabindex=\"-1\" target=\"_self\">\n",
       " <h4>Creative Arts</h4>\n",
       " </a>,\n",
       " <a class=\"a-lettuce level-two\" href=\"/Education/browse?interest_value=f9158253db96df002e4c126b3a961953\n",
       " \" tabindex=\"-1\" target=\"_self\">\n",
       " <h4>Education</h4>\n",
       " </a>,\n",
       " <a class=\"a-lettuce level-two\" href=\"/EngineeringAndRelatedTechnologies/browse?interest_value=8a948253db96df002e4c126b3a961950\n",
       " \" tabindex=\"-1\" target=\"_self\">\n",
       " <h4>Engineering and Related Technologies</h4>\n",
       " </a>]"
      ]
     },
     "execution_count": 10,
     "metadata": {},
     "output_type": "execute_result"
    }
   ],
   "source": [
    "divs[:5]"
   ]
  },
  {
   "cell_type": "code",
   "execution_count": 11,
   "metadata": {},
   "outputs": [
    {
     "data": {
      "text/plain": [
       "[<a class=\"a-lettuce level-two\" href=\"/InformationTechnologyElectricalEngineering/browse?sa=a2ce83204f0f5b00eeb3eb4f0310c705\" tabindex=\"-1\" target=\"_self\">\n",
       " <h4>ZEIT: Information Technology &amp; Electrical Engineering</h4>\n",
       " </a>,\n",
       " <a class=\"a-lettuce level-two\" href=\"/UniversityCollegeGeneralEducation/browse?sa=a6ce83204f0f5b00eeb3eb4f0310c716\" tabindex=\"-1\" target=\"_self\">\n",
       " <h4>ZGEN: University College General Education</h4>\n",
       " </a>,\n",
       " <a class=\"a-lettuce level-two\" href=\"/HumanitiesSocialSciences/browse?sa=e2ce83204f0f5b00eeb3eb4f0310c71b\" tabindex=\"-1\" target=\"_self\">\n",
       " <h4>ZHSS: Humanities &amp; Social Sciences</h4>\n",
       " </a>,\n",
       " <a class=\"a-lettuce level-two\" href=\"/UniversityCollegeinterdisciplinary/browse?sa=22ce83204f0f5b00eeb3eb4f0310c720\" tabindex=\"-1\" target=\"_self\">\n",
       " <h4>ZINT: University College (Interdisciplinary)</h4>\n",
       " </a>,\n",
       " <a class=\"a-lettuce level-two\" href=\"/PhysicalEnvironmentalMathematicalSciences/browse?sa=6ece83204f0f5b00eeb3eb4f0310c724\" tabindex=\"-1\" target=\"_self\">\n",
       " <h4>ZPEM: Physical, Environmental &amp; Mathematical Sciences</h4>\n",
       " </a>]"
      ]
     },
     "execution_count": 11,
     "metadata": {},
     "output_type": "execute_result"
    }
   ],
   "source": [
    "divs[-5:]"
   ]
  },
  {
   "cell_type": "code",
   "execution_count": 12,
   "metadata": {},
   "outputs": [
    {
     "data": {
      "text/plain": [
       "['\\n', <h4>MDCN: Medicine</h4>, '\\n']"
      ]
     },
     "execution_count": 12,
     "metadata": {},
     "output_type": "execute_result"
    }
   ],
   "source": [
    "divs[100].contents"
   ]
  },
  {
   "cell_type": "code",
   "execution_count": 13,
   "metadata": {},
   "outputs": [],
   "source": [
    "# but subject_areas contains 'by area of interest',\n",
    "# 'by faculty' and by 'subject area'\n",
    "# filer out 'by area of interest' nad 'by faculty'\n",
    "subject_areas = []\n",
    "for div in divs:\n",
    "    name = div.contents[1].string\n",
    "    if re.search(r'[A-Z]{4}:[\\s\\w]+$',name):\n",
    "        link = div.get('href')\n",
    "        subject_areas.append([name, link])"
   ]
  },
  {
   "cell_type": "code",
   "execution_count": 14,
   "metadata": {},
   "outputs": [
    {
     "data": {
      "text/plain": [
       "[['ACCT: Accounting',\n",
       "  '/Accounting/browse?sa=b4cecfec4fcb5b00eeb3eb4f0310c7eb'],\n",
       " ['ACTL: Actuarial Studies',\n",
       "  '/ActuarialStudies/browse?sa=7cce03204f0f5b00eeb3eb4f0310c709'],\n",
       " ['ADAD: Art and Design',\n",
       "  '/ArtAndDesign/browse?sa=b8ce03204f0f5b00eeb3eb4f0310c70e'],\n",
       " ['AERO: Aerospace Engineering',\n",
       "  '/AerospaceEngineering/browse?sa=c5ce03204f0f5b00eeb3eb4f0310c713'],\n",
       " ['ANAT: Anatomy', '/Anatomy/browse?sa=05ce03204f0f5b00eeb3eb4f0310c718'],\n",
       " ['ARCH: Architecture',\n",
       "  '/Architecture/browse?sa=41ce03204f0f5b00eeb3eb4f0310c71d'],\n",
       " ['ARTS: Disciplinary and Interdisciplinary Humanities',\n",
       "  '/DisciplinaryAndInterdisciplinaryHumanities/browse?sa=8dce03204f0f5b00eeb3eb4f0310c721']]"
      ]
     },
     "execution_count": 14,
     "metadata": {},
     "output_type": "execute_result"
    }
   ],
   "source": [
    "subject_areas[:7]"
   ]
  },
  {
   "cell_type": "code",
   "execution_count": 15,
   "metadata": {},
   "outputs": [],
   "source": [
    "# now we have subject areas and href\n",
    "# write them into a csv file\n",
    "import csv\n",
    "def write_csv(lst: list, filename: str, headers: list):\n",
    "    with open('{:}.csv'.format(filename), 'w+', encoding='utf-8') as f:\n",
    "        writer = csv.writer(f)\n",
    "        writer.writerow(headers)\n",
    "        for i in lst:\n",
    "            writer.writerow(i)\n",
    "# headers = ['Subject Area', 'href']\n",
    "# write_csv(subjects, 'subject_areas', headers)"
   ]
  },
  {
   "cell_type": "code",
   "execution_count": 2,
   "metadata": {},
   "outputs": [
    {
     "ename": "SessionNotCreatedException",
     "evalue": "Message: session not created: This version of MSEdgeDriver only supports MSEdge version 83\n",
     "output_type": "error",
     "traceback": [
      "\u001b[1;31m---------------------------------------------------------------------------\u001b[0m",
      "\u001b[1;31mSessionNotCreatedException\u001b[0m                Traceback (most recent call last)",
      "\u001b[1;32m<ipython-input-2-53c22ed013a1>\u001b[0m in \u001b[0;36m<module>\u001b[1;34m\u001b[0m\n\u001b[0;32m      1\u001b[0m \u001b[1;32mfrom\u001b[0m \u001b[0mselenium\u001b[0m \u001b[1;32mimport\u001b[0m \u001b[0mwebdriver\u001b[0m\u001b[1;33m\u001b[0m\u001b[1;33m\u001b[0m\u001b[0m\n\u001b[1;32m----> 2\u001b[1;33m \u001b[0mdriver\u001b[0m \u001b[1;33m=\u001b[0m \u001b[0mwebdriver\u001b[0m\u001b[1;33m.\u001b[0m\u001b[0mEdge\u001b[0m\u001b[1;33m(\u001b[0m\u001b[1;34m'msedgedriver.exe'\u001b[0m\u001b[1;33m)\u001b[0m\u001b[1;33m\u001b[0m\u001b[1;33m\u001b[0m\u001b[0m\n\u001b[0m\u001b[0;32m      3\u001b[0m \u001b[0mdriver\u001b[0m\u001b[1;33m.\u001b[0m\u001b[0mimplicitly_wait\u001b[0m\u001b[1;33m(\u001b[0m\u001b[1;36m60\u001b[0m\u001b[1;33m)\u001b[0m\u001b[1;33m\u001b[0m\u001b[1;33m\u001b[0m\u001b[0m\n",
      "\u001b[1;32m~\\anaconda3\\lib\\site-packages\\selenium\\webdriver\\edge\\webdriver.py\u001b[0m in \u001b[0;36m__init__\u001b[1;34m(self, executable_path, capabilities, port, verbose, service_log_path, log_path, keep_alive)\u001b[0m\n\u001b[0;32m     64\u001b[0m                                               \u001b[0mresolve_ip\u001b[0m\u001b[1;33m=\u001b[0m\u001b[1;32mFalse\u001b[0m\u001b[1;33m,\u001b[0m\u001b[1;33m\u001b[0m\u001b[1;33m\u001b[0m\u001b[0m\n\u001b[0;32m     65\u001b[0m                                               keep_alive=keep_alive),\n\u001b[1;32m---> 66\u001b[1;33m             desired_capabilities=capabilities)\n\u001b[0m\u001b[0;32m     67\u001b[0m         \u001b[0mself\u001b[0m\u001b[1;33m.\u001b[0m\u001b[0m_is_remote\u001b[0m \u001b[1;33m=\u001b[0m \u001b[1;32mFalse\u001b[0m\u001b[1;33m\u001b[0m\u001b[1;33m\u001b[0m\u001b[0m\n\u001b[0;32m     68\u001b[0m \u001b[1;33m\u001b[0m\u001b[0m\n",
      "\u001b[1;32m~\\anaconda3\\lib\\site-packages\\selenium\\webdriver\\remote\\webdriver.py\u001b[0m in \u001b[0;36m__init__\u001b[1;34m(self, command_executor, desired_capabilities, browser_profile, proxy, keep_alive, file_detector, options)\u001b[0m\n\u001b[0;32m    155\u001b[0m             warnings.warn(\"Please use FirefoxOptions to set browser profile\",\n\u001b[0;32m    156\u001b[0m                           DeprecationWarning, stacklevel=2)\n\u001b[1;32m--> 157\u001b[1;33m         \u001b[0mself\u001b[0m\u001b[1;33m.\u001b[0m\u001b[0mstart_session\u001b[0m\u001b[1;33m(\u001b[0m\u001b[0mcapabilities\u001b[0m\u001b[1;33m,\u001b[0m \u001b[0mbrowser_profile\u001b[0m\u001b[1;33m)\u001b[0m\u001b[1;33m\u001b[0m\u001b[1;33m\u001b[0m\u001b[0m\n\u001b[0m\u001b[0;32m    158\u001b[0m         \u001b[0mself\u001b[0m\u001b[1;33m.\u001b[0m\u001b[0m_switch_to\u001b[0m \u001b[1;33m=\u001b[0m \u001b[0mSwitchTo\u001b[0m\u001b[1;33m(\u001b[0m\u001b[0mself\u001b[0m\u001b[1;33m)\u001b[0m\u001b[1;33m\u001b[0m\u001b[1;33m\u001b[0m\u001b[0m\n\u001b[0;32m    159\u001b[0m         \u001b[0mself\u001b[0m\u001b[1;33m.\u001b[0m\u001b[0m_mobile\u001b[0m \u001b[1;33m=\u001b[0m \u001b[0mMobile\u001b[0m\u001b[1;33m(\u001b[0m\u001b[0mself\u001b[0m\u001b[1;33m)\u001b[0m\u001b[1;33m\u001b[0m\u001b[1;33m\u001b[0m\u001b[0m\n",
      "\u001b[1;32m~\\anaconda3\\lib\\site-packages\\selenium\\webdriver\\remote\\webdriver.py\u001b[0m in \u001b[0;36mstart_session\u001b[1;34m(self, capabilities, browser_profile)\u001b[0m\n\u001b[0;32m    250\u001b[0m         parameters = {\"capabilities\": w3c_caps,\n\u001b[0;32m    251\u001b[0m                       \"desiredCapabilities\": capabilities}\n\u001b[1;32m--> 252\u001b[1;33m         \u001b[0mresponse\u001b[0m \u001b[1;33m=\u001b[0m \u001b[0mself\u001b[0m\u001b[1;33m.\u001b[0m\u001b[0mexecute\u001b[0m\u001b[1;33m(\u001b[0m\u001b[0mCommand\u001b[0m\u001b[1;33m.\u001b[0m\u001b[0mNEW_SESSION\u001b[0m\u001b[1;33m,\u001b[0m \u001b[0mparameters\u001b[0m\u001b[1;33m)\u001b[0m\u001b[1;33m\u001b[0m\u001b[1;33m\u001b[0m\u001b[0m\n\u001b[0m\u001b[0;32m    253\u001b[0m         \u001b[1;32mif\u001b[0m \u001b[1;34m'sessionId'\u001b[0m \u001b[1;32mnot\u001b[0m \u001b[1;32min\u001b[0m \u001b[0mresponse\u001b[0m\u001b[1;33m:\u001b[0m\u001b[1;33m\u001b[0m\u001b[1;33m\u001b[0m\u001b[0m\n\u001b[0;32m    254\u001b[0m             \u001b[0mresponse\u001b[0m \u001b[1;33m=\u001b[0m \u001b[0mresponse\u001b[0m\u001b[1;33m[\u001b[0m\u001b[1;34m'value'\u001b[0m\u001b[1;33m]\u001b[0m\u001b[1;33m\u001b[0m\u001b[1;33m\u001b[0m\u001b[0m\n",
      "\u001b[1;32m~\\anaconda3\\lib\\site-packages\\selenium\\webdriver\\remote\\webdriver.py\u001b[0m in \u001b[0;36mexecute\u001b[1;34m(self, driver_command, params)\u001b[0m\n\u001b[0;32m    319\u001b[0m         \u001b[0mresponse\u001b[0m \u001b[1;33m=\u001b[0m \u001b[0mself\u001b[0m\u001b[1;33m.\u001b[0m\u001b[0mcommand_executor\u001b[0m\u001b[1;33m.\u001b[0m\u001b[0mexecute\u001b[0m\u001b[1;33m(\u001b[0m\u001b[0mdriver_command\u001b[0m\u001b[1;33m,\u001b[0m \u001b[0mparams\u001b[0m\u001b[1;33m)\u001b[0m\u001b[1;33m\u001b[0m\u001b[1;33m\u001b[0m\u001b[0m\n\u001b[0;32m    320\u001b[0m         \u001b[1;32mif\u001b[0m \u001b[0mresponse\u001b[0m\u001b[1;33m:\u001b[0m\u001b[1;33m\u001b[0m\u001b[1;33m\u001b[0m\u001b[0m\n\u001b[1;32m--> 321\u001b[1;33m             \u001b[0mself\u001b[0m\u001b[1;33m.\u001b[0m\u001b[0merror_handler\u001b[0m\u001b[1;33m.\u001b[0m\u001b[0mcheck_response\u001b[0m\u001b[1;33m(\u001b[0m\u001b[0mresponse\u001b[0m\u001b[1;33m)\u001b[0m\u001b[1;33m\u001b[0m\u001b[1;33m\u001b[0m\u001b[0m\n\u001b[0m\u001b[0;32m    322\u001b[0m             response['value'] = self._unwrap_value(\n\u001b[0;32m    323\u001b[0m                 response.get('value', None))\n",
      "\u001b[1;32m~\\anaconda3\\lib\\site-packages\\selenium\\webdriver\\remote\\errorhandler.py\u001b[0m in \u001b[0;36mcheck_response\u001b[1;34m(self, response)\u001b[0m\n\u001b[0;32m    240\u001b[0m                 \u001b[0malert_text\u001b[0m \u001b[1;33m=\u001b[0m \u001b[0mvalue\u001b[0m\u001b[1;33m[\u001b[0m\u001b[1;34m'alert'\u001b[0m\u001b[1;33m]\u001b[0m\u001b[1;33m.\u001b[0m\u001b[0mget\u001b[0m\u001b[1;33m(\u001b[0m\u001b[1;34m'text'\u001b[0m\u001b[1;33m)\u001b[0m\u001b[1;33m\u001b[0m\u001b[1;33m\u001b[0m\u001b[0m\n\u001b[0;32m    241\u001b[0m             \u001b[1;32mraise\u001b[0m \u001b[0mexception_class\u001b[0m\u001b[1;33m(\u001b[0m\u001b[0mmessage\u001b[0m\u001b[1;33m,\u001b[0m \u001b[0mscreen\u001b[0m\u001b[1;33m,\u001b[0m \u001b[0mstacktrace\u001b[0m\u001b[1;33m,\u001b[0m \u001b[0malert_text\u001b[0m\u001b[1;33m)\u001b[0m\u001b[1;33m\u001b[0m\u001b[1;33m\u001b[0m\u001b[0m\n\u001b[1;32m--> 242\u001b[1;33m         \u001b[1;32mraise\u001b[0m \u001b[0mexception_class\u001b[0m\u001b[1;33m(\u001b[0m\u001b[0mmessage\u001b[0m\u001b[1;33m,\u001b[0m \u001b[0mscreen\u001b[0m\u001b[1;33m,\u001b[0m \u001b[0mstacktrace\u001b[0m\u001b[1;33m)\u001b[0m\u001b[1;33m\u001b[0m\u001b[1;33m\u001b[0m\u001b[0m\n\u001b[0m\u001b[0;32m    243\u001b[0m \u001b[1;33m\u001b[0m\u001b[0m\n\u001b[0;32m    244\u001b[0m     \u001b[1;32mdef\u001b[0m \u001b[0m_value_or_default\u001b[0m\u001b[1;33m(\u001b[0m\u001b[0mself\u001b[0m\u001b[1;33m,\u001b[0m \u001b[0mobj\u001b[0m\u001b[1;33m,\u001b[0m \u001b[0mkey\u001b[0m\u001b[1;33m,\u001b[0m \u001b[0mdefault\u001b[0m\u001b[1;33m)\u001b[0m\u001b[1;33m:\u001b[0m\u001b[1;33m\u001b[0m\u001b[1;33m\u001b[0m\u001b[0m\n",
      "\u001b[1;31mSessionNotCreatedException\u001b[0m: Message: session not created: This version of MSEdgeDriver only supports MSEdge version 83\n"
     ]
    }
   ],
   "source": [
    "from selenium import webdriver\n",
    "driver = webdriver.Edge('msedgedriver.exe')\n",
    "driver.implicitly_wait(60)"
   ]
  },
  {
   "cell_type": "code",
   "execution_count": null,
   "metadata": {},
   "outputs": [],
   "source": [
    "driver.get(base)"
   ]
  },
  {
   "cell_type": "code",
   "execution_count": null,
   "metadata": {},
   "outputs": [],
   "source": [
    "# crawl for the course codes given the subject area\n",
    "# do big subject first\n",
    "from time import sleep\n",
    "\n",
    "total_code = []\n",
    "\n",
    "for s in subject_areas:\n",
    "    url = base + str(s[1])\n",
    "    driver.get(url)\n",
    "    button_exist = False\n",
    "    # try find the button once\n",
    "    try:\n",
    "        button = driver.find_element_by_class_name('a-browse-more-controls-btn')\n",
    "        button_exist = True\n",
    "    except:\n",
    "        button_exist = False\n",
    "    # if button exists, courses are in 'section' tags\n",
    "    if button_exist:\n",
    "        # click expand button until there is no more to browse\n",
    "        while True:\n",
    "            try:\n",
    "                button = driver.find_element_by_class_name('a-browse-more-controls-btn')\n",
    "                if 'No more' in button.text:\n",
    "                    break\n",
    "                button.click()\n",
    "                sleep(5)\n",
    "            except:\n",
    "                break\n",
    "        courses = driver.find_elements_by_class_name('section')\n",
    "        small_cs = []\n",
    "    else:\n",
    "        small_cs = driver.find_elements_by_class_name('align-left')\n",
    "        courses = []\n",
    "    \n",
    "    codes = []\n",
    "    for i in range(0, len(courses), 3):\n",
    "        if courses[i].text:\n",
    "            codes.append(courses[i].text)\n",
    "    for l in small_cs:\n",
    "        codes.append(l.text)\n",
    "    \n",
    "    total_code.append(codes)"
   ]
  },
  {
   "cell_type": "code",
   "execution_count": null,
   "metadata": {},
   "outputs": [],
   "source": [
    "total_code[:10]"
   ]
  },
  {
   "cell_type": "code",
   "execution_count": null,
   "metadata": {},
   "outputs": [],
   "source": [
    "total_code[-5:]"
   ]
  },
  {
   "cell_type": "code",
   "execution_count": 25,
   "metadata": {},
   "outputs": [],
   "source": [
    "# write the codes into a csv\n",
    "write_csv(total_code, 'codes', ['Course Codes Grouped by Subject Area'])"
   ]
  },
  {
   "cell_type": "code",
   "execution_count": 114,
   "metadata": {},
   "outputs": [],
   "source": [
    "# start to crawl for each subject\n",
    "driver.implicitly_wait(60)\n",
    "total_info = []\n",
    "base = 'https://www.handbook.unsw.edu.au'\n",
    "path_u = '/undergraduate/courses/2020/'\n",
    "path_p = '/postgraduate/courses/2020/'\n",
    "path_r = '/research/courses/2020/'\n",
    "path = [path_u, path_p, path_r]\n",
    "for area in total_code:\n",
    "    for code in area:\n",
    "        if code == '':\n",
    "            continue\n",
    "        for p in path:\n",
    "            try:\n",
    "                url = base + p + code + '/'\n",
    "                r = requests.get(url, timeout=30)\n",
    "                r.raise_for_status()\n",
    "            except:\n",
    "                pass\n",
    "            soup = BeautifulSoup(r.text, 'html.parser')\n",
    "            if 'Error' in soup.title.string:\n",
    "                continue\n",
    "            else:\n",
    "                break\n",
    "                \n",
    "        # code, name, course url, offering, enrolment condition, outline url, overview\n",
    "        try:\n",
    "            name = soup.title.string.split(' - ')[2]\n",
    "        except:\n",
    "            print(url)\n",
    "        condi = soup.find_all('div', {'data-hbui': 'readmore__toggle-text'})\n",
    "        try:\n",
    "            pre = condi[1].div.string\n",
    "        except:\n",
    "            pre = ' '\n",
    "        # find(name, attrs, recursive, text, **kwargs)\n",
    "        ovs = soup.find('div', {'class': 'readmore__wrapper'})\n",
    "        if ovs.p is None:\n",
    "            ov = ovs.string\n",
    "        else:\n",
    "            ov = ovs.p.string\n",
    "        offering = ' '\n",
    "        offerings = soup.find_all('div', {'class': 'o-attributes-table-item'})\n",
    "        for o in offerings:\n",
    "            if not o.p is None and 'Term' in o.p.string:\n",
    "                offering = o.p.string\n",
    "                break\n",
    "            \n",
    "        outline = soup.find('a', {'class': 'a-btn-secondary a-btn-secondary--with-icon'}).get('href')\n",
    "        info_lst = [code, name, url, offering, pre, outline, ov]\n",
    "        total_info.append(info_lst)"
   ]
  },
  {
   "cell_type": "code",
   "execution_count": 115,
   "metadata": {},
   "outputs": [],
   "source": [
    "# write them into a csv file\n",
    "headers = ['Course Code', 'Course Name', 'Course URL', 'Offering Terms', 'Enrolment Conditions', 'Outline URL', 'Overview']\n",
    "with open('courses.csv', 'w+', encoding='utf-8') as f:\n",
    "    writer = csv.writer(f)\n",
    "    writer.writerow(headers)\n",
    "    for t in total_info:\n",
    "        try:\n",
    "            writer.writerow(t)\n",
    "        except:\n",
    "            traceback.print_exc()"
   ]
  },
  {
   "cell_type": "code",
   "execution_count": 108,
   "metadata": {},
   "outputs": [],
   "source": []
  },
  {
   "cell_type": "code",
   "execution_count": null,
   "metadata": {},
   "outputs": [],
   "source": []
  },
  {
   "cell_type": "code",
   "execution_count": 110,
   "metadata": {},
   "outputs": [],
   "source": []
  },
  {
   "cell_type": "code",
   "execution_count": 112,
   "metadata": {},
   "outputs": [],
   "source": []
  },
  {
   "cell_type": "code",
   "execution_count": null,
   "metadata": {
    "scrolled": true
   },
   "outputs": [],
   "source": []
  },
  {
   "cell_type": "code",
   "execution_count": null,
   "metadata": {},
   "outputs": [],
   "source": []
  },
  {
   "cell_type": "code",
   "execution_count": null,
   "metadata": {},
   "outputs": [],
   "source": []
  },
  {
   "cell_type": "code",
   "execution_count": null,
   "metadata": {},
   "outputs": [],
   "source": []
  },
  {
   "cell_type": "code",
   "execution_count": null,
   "metadata": {},
   "outputs": [],
   "source": []
  },
  {
   "cell_type": "code",
   "execution_count": null,
   "metadata": {},
   "outputs": [],
   "source": []
  }
 ],
 "metadata": {
  "kernelspec": {
   "display_name": "Python 3",
   "language": "python",
   "name": "python3"
  },
  "language_info": {
   "codemirror_mode": {
    "name": "ipython",
    "version": 3
   },
   "file_extension": ".py",
   "mimetype": "text/x-python",
   "name": "python",
   "nbconvert_exporter": "python",
   "pygments_lexer": "ipython3",
   "version": "3.7.6"
  }
 },
 "nbformat": 4,
 "nbformat_minor": 2
}
